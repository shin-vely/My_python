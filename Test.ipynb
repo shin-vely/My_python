{
  "nbformat": 4,
  "nbformat_minor": 0,
  "metadata": {
    "colab": {
      "name": "Untitled4.ipynb",
      "provenance": [],
      "authorship_tag": "ABX9TyOpS0HMc4FmVtxDX3Ae7MJm",
      "include_colab_link": true
    },
    "kernelspec": {
      "name": "python3",
      "display_name": "Python 3"
    }
  },
  "cells": [
    {
      "cell_type": "markdown",
      "metadata": {
        "id": "view-in-github",
        "colab_type": "text"
      },
      "source": [
        "<a href=\"https://colab.research.google.com/github/shin-vely/My_python/blob/main/Test.ipynb\" target=\"_parent\"><img src=\"https://colab.research.google.com/assets/colab-badge.svg\" alt=\"Open In Colab\"/></a>"
      ]
    },
    {
      "cell_type": "code",
      "metadata": {
        "colab": {
          "base_uri": "https://localhost:8080/"
        },
        "id": "tuIhltND4wOl",
        "outputId": "3cbd8b03-8bf3-4c51-d962-d9641e5e106a"
      },
      "source": [
        "name = input('이름을 입력해주세요 : ')\r\n",
        "print(name+'님! 안녕하세요!')"
      ],
      "execution_count": 1,
      "outputs": [
        {
          "output_type": "stream",
          "text": [
            "이름을 입력해주세요 : 쌈으뇽\n",
            "쌈으뇽님! 안녕하세요!\n"
          ],
          "name": "stdout"
        }
      ]
    },
    {
      "cell_type": "code",
      "metadata": {
        "colab": {
          "base_uri": "https://localhost:8080/"
        },
        "id": "iXSyPOR36upu",
        "outputId": "8b2786f7-9b7e-4112-be38-df481785dab5"
      },
      "source": [
        "print(10 >= 3)\r\n",
        "print(10 <= 3)\r\n",
        "print(10 == 3)\r\n",
        "print(10 != 3)\r\n",
        "print(10 % 3 ==1 )"
      ],
      "execution_count": 2,
      "outputs": [
        {
          "output_type": "stream",
          "text": [
            "True\n",
            "False\n",
            "False\n",
            "True\n",
            "True\n"
          ],
          "name": "stdout"
        }
      ]
    },
    {
      "cell_type": "code",
      "metadata": {
        "colab": {
          "base_uri": "https://localhost:8080/"
        },
        "id": "OdZMnJqx8DUw",
        "outputId": "3d1691b0-e95c-466b-a8c2-76b8fb7636af"
      },
      "source": [
        "import random\r\n",
        "dice = random.randint(1,6)\r\n",
        "print(dice)"
      ],
      "execution_count": 4,
      "outputs": [
        {
          "output_type": "stream",
          "text": [
            "4\n"
          ],
          "name": "stdout"
        }
      ]
    },
    {
      "cell_type": "code",
      "metadata": {
        "colab": {
          "base_uri": "https://localhost:8080/"
        },
        "id": "bzat71E28fzv",
        "outputId": "1b090765-c6e2-427b-c70e-392455beaf31"
      },
      "source": [
        "import math\r\n",
        "print(math.sqrt(5))"
      ],
      "execution_count": 5,
      "outputs": [
        {
          "output_type": "stream",
          "text": [
            "2.23606797749979\n"
          ],
          "name": "stdout"
        }
      ]
    },
    {
      "cell_type": "code",
      "metadata": {
        "colab": {
          "base_uri": "https://localhost:8080/"
        },
        "id": "SCsreM-b85eQ",
        "outputId": "c32323b8-23a5-4e82-cf63-e6cc9463c458"
      },
      "source": [
        "!pwd\r\n",
        "!ls"
      ],
      "execution_count": 8,
      "outputs": [
        {
          "output_type": "stream",
          "text": [
            "/content\n",
            "sample_data\n"
          ],
          "name": "stdout"
        }
      ]
    },
    {
      "cell_type": "code",
      "metadata": {
        "id": "MecvAmT-_Wmo"
      },
      "source": [
        ""
      ],
      "execution_count": null,
      "outputs": []
    },
    {
      "cell_type": "code",
      "metadata": {
        "id": "EHGwFqAyPmbB"
      },
      "source": [
        ""
      ],
      "execution_count": null,
      "outputs": []
    }
  ]
}